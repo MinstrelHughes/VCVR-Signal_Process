{
 "cells": [
  {
   "cell_type": "code",
   "execution_count": 102,
   "metadata": {},
   "outputs": [
    {
     "name": "stdout",
     "output_type": "stream",
     "text": [
      "Extracting parameters from /Users/luzhuoran/VCVR-Signal_Process/DATA/DataCollection2_ProfSowers_12March2018/demo_2.vhdr...\n",
      "Setting channel info structure...\n",
      "Extracting parameters from /Users/luzhuoran/VCVR-Signal_Process/DATA/DataCollection2_ProfSowers_12March2018/demo_2.vhdr...\n",
      "Setting channel info structure...\n",
      "Reading 0 ... 55935  =      0.000 ...   109.248 secs...\n",
      "Extracting parameters from /Users/luzhuoran/VCVR-Signal_Process/DATA/DataCollection2_ProfSowers_12March2018/demo_2.vhdr...\n",
      "Setting channel info structure...\n",
      "Extracting parameters from /Users/luzhuoran/VCVR-Signal_Process/DATA/DataCollection2_ProfSowers_12March2018/demo_2.vhdr...\n",
      "Setting channel info structure...\n",
      "Reading 0 ... 55935  =      0.000 ...   109.248 secs...\n"
     ]
    }
   ],
   "source": [
    "import numpy as np\n",
    "import matplotlib.pyplot as plt\n",
    "from scipy import signal\n",
    "from sklearn.decomposition import FastICA, PCA\n",
    "from signal_filter import Filter\n",
    "import copy\n",
    "from numpy import linalg as LA  \n",
    "\n",
    "class decompose():\n",
    "\tdef __init__(self, source_path):\n",
    "\t\tself.signal_filter = Filter(source_path)\n",
    "\t\tself.signal_source = (self.signal_filter.filtered_signal())\n",
    "\tdef sk_learn_ICA(self, components_count):\n",
    "\t\t# ICA模型\n",
    "\t\tica = FastICA(n_components=components_count)\n",
    "\t\tsource = np.array((self.signal_source))\n",
    "\t\tsource = source.reshape(1,-1)\n",
    "\t\tprint(\"source shape\",source.shape)\n",
    "\t\tprint(source)\n",
    "\t\t# source = np.nan_to_num(source)\n",
    "\t\tprint(np.isinf(source).any())\n",
    "\t\tprint(np.isnan(source).any())\n",
    "\t\t# # source = source.reshape(1,-1)\n",
    "\t\tthreshold_for_bug = 10\n",
    "\t\t# print(threshold_for_bug)\n",
    "\t\t# for i in range(len(source[0])):\n",
    "\t\t# \tprint(\"worinidie\",source[0][i])\n",
    "\t\t# \tif (abs(source[0][i])) < threshold_for_bug:\n",
    "\t\t# \t\tsource[0][i] = threshold_for_bug\n",
    "\t\tsource[source < threshold_for_bug] = threshold_for_bug\n",
    "\t\t# print(source)\n",
    "\n",
    "\t\tS_ = ica.fit_transform(source)  # 重构信号\n",
    "\t\tA_ = ica.mixing_  # 获得估计混合后的矩阵\n",
    "\t\treturn S_\n",
    "\tdef plot(self,signals,title='decomposition plot'):\n",
    "\t\tprint(\"signals aa \",signals[0])\n",
    "\t\t# plt.title(title)\n",
    "\t\t# print(signals)\n",
    "\t\t# print(signals[0][0].shape)\n",
    "\t\t# plt.plot(len(sig),)\n",
    "\t\t# plt.figure()\n",
    "\t\t# for sig in signals:\n",
    "\t\t# \tplt.scatter(np.arange(len(sig)),sig)\n",
    "\t\t# \tplt.show()\n",
    "\tdef helper(self,x):\n",
    "\t\tprint(\"x shape is \",np.array(x).shape)\n",
    "\t\tplt.figure()\n",
    "\t\tplt.plot(np.arange(len(x)),x)\n",
    "\t\tplt.show()\n",
    "\n",
    "\tdef low_rank():\n",
    "\t\treturn \"rinidie\"\n",
    "\tdef Fast_ICA(self,signal,iteration_max=10000,epsilon=0.01):\n",
    "\t\tmax_count = iteration_max\n",
    "\t\tcirtical = epsilon\n",
    "\t\tinput_signal = signal\n",
    "\n",
    "\t\t#demean the signal\n",
    "\t\tmean = np.mean(input_signal,axis=1)\n",
    "\n",
    "\t\tdemean_signal = np.array([elem-i for elem,i in zip(input_signal,mean)])\n",
    "\t\tmean = np.mean(demean_signal,axis=1)\n",
    "\n",
    "\t\treturn demean_signal\n",
    "\n",
    "\n",
    "path = \"/Users/luzhuoran/VCVR-Signal_Process/DATA/DataCollection2_ProfSowers_12March2018/demo_2.vhdr\"\n",
    "# decomposition = decompose(path)\n",
    "# # print(decomposition.ICA(2))\n",
    "# decomposition.ICA(2)\n",
    "\n",
    "alpha_filter = Filter(path)\n",
    "filtered_signal = alpha_filter.filtered_signal()\n",
    "\n",
    "decomposition = decompose(path)\n",
    "demean_sig = decomposition.Fast_ICA(filtered_signal)\n",
    "# Cx = np.cov(np.array(demean_sig))"
   ]
  },
  {
   "cell_type": "code",
   "execution_count": 103,
   "metadata": {},
   "outputs": [
    {
     "name": "stdout",
     "output_type": "stream",
     "text": [
      "[[  2.98877643e+00   3.39017347e+00   2.27342968e+00 ...,   2.24391461e+00\n",
      "    3.37373327e+00   2.99083514e+00]\n",
      " [  2.20132613e+00   2.50964069e+00   1.65874101e+00 ...,   1.65023660e+00\n",
      "    2.44490095e+00   2.17857131e+00]\n",
      " [  2.45223524e+00   2.79947341e+00   1.83969220e+00 ...,   1.84711883e+00\n",
      "    2.68905407e+00   2.40677806e+00]\n",
      " [  6.89075019e-01   7.82867227e-01   5.56432621e-01 ...,   5.16616650e-01\n",
      "    7.88682509e-01   7.02914727e-01]\n",
      " [  1.71266462e-03   7.09948318e-03   3.47164004e-02 ...,  -5.68259464e-03\n",
      "    1.34117536e-02   1.57623898e-02]]\n",
      "5 56335\n",
      "<class 'numpy.ndarray'>\n",
      "[[ 10146.46902552   9618.82096401   9762.93207891   8615.70184831\n",
      "    8179.5387392 ]\n",
      " [  9618.82096401   9267.60430638   9362.37094476   8493.03276103\n",
      "    8192.45357319]\n",
      " [  9762.93207891   9362.37094476   9569.42651928   8527.55233763\n",
      "    8227.01946385]\n",
      " [  8615.70184831   8493.03276103   8527.55233763   8268.51743411\n",
      "    8146.18589178]\n",
      " [  8179.5387392    8192.45357319   8227.01946385   8146.18589178\n",
      "    8212.02948959]]\n"
     ]
    }
   ],
   "source": [
    "# print(Cx)\n",
    "demean_sig = demean_sig[6:11]\n",
    "print(demean_sig)\n",
    "# demean_sig = np.array([demean_sig[0],demean_sig[1],demean_sig[2],demean_sig[3]])\n",
    "R,C=demean_sig.shape  \n",
    "print(R,C)\n",
    "print(type(demean_sig))\n",
    "print(np.cov(demean_sig))\n",
    "Cx = np.cov(demean_sig)"
   ]
  },
  {
   "cell_type": "code",
   "execution_count": 104,
   "metadata": {},
   "outputs": [],
   "source": [
    "value,eigvector = np.linalg.eig(Cx)#计算协方差阵的特征值  \n",
    "val=value**(-1/2)*np.eye(R, dtype=float)   \n",
    "White=np.dot(val ,eigvector.T)  #白化矩阵  \n",
    "\n",
    "Z=np.dot(White,demean_sig) #混合矩阵的主成分Z，Z为正交阵"
   ]
  },
  {
   "cell_type": "code",
   "execution_count": 105,
   "metadata": {},
   "outputs": [
    {
     "name": "stdout",
     "output_type": "stream",
     "text": [
      "reach Maxcount，exit loop 2.62643385118\n",
      "loop count: 10000\n",
      "reach Maxcount，exit loop 3.36231527708\n",
      "loop count: 10000\n",
      "reach Maxcount，exit loop 3.31884273436\n",
      "loop count: 10000\n",
      "reach Maxcount，exit loop 2.70006385205\n",
      "loop count: 10000\n",
      "reach Maxcount，exit loop 3.39464013255\n",
      "loop count: 10000\n"
     ]
    }
   ],
   "source": [
    "W=0.5*np.ones([5,5])#weight matrix  \n",
    "\n",
    "for n in range(R):  \n",
    "    count=0      \n",
    "    WP=W[:,n].reshape(R,1) #initialize  \n",
    "    LastWP=np.zeros(R).reshape(R,1) # column vector ;LastWP=zeros(m,1);   \n",
    "    while LA.norm(WP-LastWP,1)>0.0001:  \n",
    "        #print(count,\" loop :\",LA.norm(WP-LastWP,1))  \n",
    "        count=count+1  \n",
    "        LastWP=np.copy(WP)    #  last iteration value    \n",
    "        gx=np.tanh(LastWP.T.dot(Z))  # row vector \n",
    "  \n",
    "        for i in range(R):    \n",
    "            tm1=np.mean( Z[i,:]*gx )   \n",
    "            tm2=np.mean(1-gx**2)*LastWP[i] #fast \n",
    "            #tm2=np.mean(gx)*LastWP[i]     #slow  \n",
    "            WP[i]=tm1 - tm2  \n",
    "        #print(\" wp :\", WP.T )   \n",
    "        WPP=np.zeros(R) #one dimensional zero vector  \n",
    "        for j in range(n):    \n",
    "            WPP=WPP+  WP.T.dot(W[:,j])* W[:,j]   \n",
    "        WP.shape=1,R  \n",
    "        WP=WP-WPP  \n",
    "        WP.shape=R,1  \n",
    "        WP=WP/(LA.norm(WP))  \n",
    "        if(count ==10000):  \n",
    "            print(\"reach Maxcount，exit loop\",LA.norm(WP-LastWP,1))  \n",
    "            break  \n",
    "    print(\"loop count:\",count )  \n",
    "    W[:,n]=WP.reshape(R,)  \n",
    "SZ=W.T.dot(Z) "
   ]
  },
  {
   "cell_type": "code",
   "execution_count": 106,
   "metadata": {},
   "outputs": [
    {
     "data": {
      "image/png": "[encoded data removed]",
      "text/plain": [
       "<matplotlib.figure.Figure at 0x1c17418978>"
      ]
     },
     "metadata": {},
     "output_type": "display_data"
    }
   ],
   "source": [
    "# plot extract signal  \n",
    "x=np.arange(0,C)  \n",
    "ax1 = plt.subplot(511)  \n",
    "ax2 = plt.subplot(512)  \n",
    "ax3 = plt.subplot(513)  \n",
    "ax4 = plt.subplot(514)\n",
    "ax5 = plt.subplot(515)\n",
    "ax1.plot(x, SZ.T[:,0])  \n",
    "ax2.plot(x, SZ.T[:,1])  \n",
    "ax3.plot(x, SZ.T[:,2])  \n",
    "ax4.plot(x, SZ.T[:,3])  \n",
    "ax5.plot(x, SZ.T[:,4])  \n",
    "plt.show()"
   ]
  },
  {
   "cell_type": "code",
   "execution_count": null,
   "metadata": {
    "collapsed": true
   },
   "outputs": [],
   "source": []
  },
  {
   "cell_type": "code",
   "execution_count": null,
   "metadata": {
    "collapsed": true
   },
   "outputs": [],
   "source": []
  }
 ],
 "metadata": {
  "kernelspec": {
   "display_name": "Python 3",
   "language": "python",
   "name": "python3"
  },
  "language_info": {
   "codemirror_mode": {
    "name": "ipython",
    "version": 3
   },
   "file_extension": ".py",
   "mimetype": "text/x-python",
   "name": "python",
   "nbconvert_exporter": "python",
   "pygments_lexer": "ipython3",
   "version": "3.6.3"
  }
 },
 "nbformat": 4,
 "nbformat_minor": 2
}
